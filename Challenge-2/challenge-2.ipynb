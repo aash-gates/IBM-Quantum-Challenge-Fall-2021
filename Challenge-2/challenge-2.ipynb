{
 "cells": [
  {
   "cell_type": "markdown",
   "id": "f9369076",
   "metadata": {},
   "source": [
    "## IBM Quantum Challenge Fall 2021\n",
    "# Challenge 2: Calculate bandgap of OLED molecules\n",
    "\n",
    "<div class=\"alert alert-block alert-info\">\n",
    "    \n",
    "We recommend that you switch to **light** workspace theme under the Account menu in the upper right corner for optimal experience."
   ]
  },
  {
   "cell_type": "markdown",
   "id": "5d6d42da",
   "metadata": {},
   "source": [
    "## Introduction\n",
    "\n",
    "Organic Light Emitting Diodes or OLEDs have become increasingly popular in recent years as the basis for fabrication of thin, flexible TV and mobile phone displays that emit light upon application of an electric current. Recent studies ([**Gao et al., 2021**](https://www.nature.com/articles/s41524-021-00540-6)) have been looking at electronic transitions of high energy states in phenylsulfonyl-carbazole (PSPCz) molecules, which could be useful thermally activated delayed fluorescence (TADF) emitters for OLED technology. TADF emitters could potentially produce OLEDs that perform with 100 percent internal quantum efficiency (IQE), i.e the fraction of the charge carriers in a circuit or system that emit absorbed photons, compared with conventional fluorophores currently used to make OLEDs whose quantum efficiencies are limited to 25 percent. That large boost in efficiency means manufacturers could produce OLEDs for use in devices requiring low-power consumption, such as cell phones, which could in turn lead to future developments where virtually any surface can be converted into a cheap and energy-efficient lighting source covering vast areas of homes, offices, museums and more!\n",
    "\n",
    "<center><img src=\"resources/JSR_img6_1920w.jpg\" width=\"600\"></center>\n",
    "\n",
    "### Why quantum?\n",
    "\n",
    "Quantum computers could be invaluable tools for studying the electronic structure and dynamical properties of complex molecules and materials as it makes more sense to model quantum mechanical systems on a quantum device than on a classical computer. A recent joint research project by IBM Quantum and partners was successful in developing methods to improve accuracy for the calculation of excited TADF states for efficient OLEDs, making it the world's first research case of applying quantum computers to the calculation of excited states of commercial materials (see paper linked above for reference). \n",
    "    \n",
    "With this background information, we are interested in describing quantum computations of the “excited states,” or high energy states, of industrial chemical compounds that could potentially be used in the fabrication of efficient OLED devices."
   ]
  },
  {
   "cell_type": "markdown",
   "id": "ddc39149",
   "metadata": {},
   "source": [
    "## Challenge\n",
    "\n",
    "<div class=\"alert alert-block alert-success\">\n",
    "\n",
    "**Goal**\n",
    "\n",
    "The goal of this challenge is to use quantum algorithms to reliably predict the excited states energies of these TADF materials. Along the way, this challenge introduces state-of-the-art hybrid classical-quantum embedded chemistry modelling allowing the splitting of the work-load between classical approximations and more accurate quantum calculations. \n",
    "    \n",
    "1. **Challenge 2a & 2b**: Understanding the atomic orbitals (AO), molecular orbitals (MO) and how to reduce the number of orbitals using active space transformation.\n",
    "2. **Challenge 2c & 2d**: Calculating ground state energy of PSPCz molecule using NumPy and Variational Quantum Eigensolver (VQE).\n",
    "3. **Challenge 2e**: Calculating excited state energy of PSPCz module using quantum Equation-of-Motion (QEOM) algorithm.\n",
    "4. **Challenge 2f**: Running VQE on the cloud (simulator or real quantum system) using Qiskit Runtime.\n",
    "\n",
    "</div>\n",
    "\n",
    "<div class=\"alert alert-block alert-info\">\n",
    "\n",
    "Before you begin, we recommend watching the [**Qiskit Nature Demo Session with Max Rossmannek**](https://youtu.be/UtMVoGXlz04?t=38) and check out the corresponding [**demo notebook**](https://github.com/qiskit-community/qiskit-application-modules-demo-sessions/tree/main/qiskit-nature) to learn how to define electronic structure calculations.\n",
    "\n",
    "</div>"
   ]
  },
  {
   "cell_type": "markdown",
   "id": "0f81686b",
   "metadata": {},
   "source": [
    "### 1. Driver\n",
    "\n",
    "The interfaces to the classical chemistry codes that are available in Qiskit are called drivers. We have for example `PSI4Driver`, `PyQuanteDriver`, `PySCFDriver` are available.\n",
    "\n",
    "By running a driver (Hartree-Fock calculation for a given basis set and molecular geometry), in the cell below, we obtain all the necessary information about our molecule to apply then a quantum algorithm."
   ]
  },
  {
   "cell_type": "code",
   "execution_count": 1,
   "id": "e15447fe",
   "metadata": {
    "tags": []
   },
   "outputs": [
    {
     "name": "stderr",
     "output_type": "stream",
     "text": [
      "/opt/conda/lib/python3.8/site-packages/pyscf/lib/misc.py:47: H5pyDeprecationWarning: Using default_file_mode other than 'r' is deprecated. Pass the mode to h5py.File() instead.\n",
      "  h5py.get_config().default_file_mode = 'a'\n"
     ]
    }
   ],
   "source": [
    "from qiskit_nature.drivers import Molecule\n",
    "from qiskit_nature.drivers.second_quantization import ElectronicStructureDriverType, ElectronicStructureMoleculeDriver\n",
    "\n",
    "# PSPCz molecule\n",
    "geometry = [['C', [  -0.2316640,    1.1348450,    0.6956120]],\n",
    "            ['C', [  -0.8886300,    0.3253780,   -0.2344140]],\n",
    "            ['C', [  -0.1842470,   -0.1935670,   -1.3239330]],\n",
    "            ['C', [   1.1662930,    0.0801450,   -1.4737160]],\n",
    "            ['C', [   1.8089230,    0.8832220,   -0.5383540]],\n",
    "            ['C', [   1.1155860,    1.4218050,    0.5392780]],\n",
    "            ['S', [   3.5450920,    1.2449890,   -0.7349240]],\n",
    "            ['O', [   3.8606900,    1.0881590,   -2.1541690]],\n",
    "            ['C', [   4.3889120,   -0.0620730,    0.1436780]],\n",
    "            ['O', [   3.8088290,    2.4916780,   -0.0174650]],\n",
    "            ['C', [   4.6830900,    0.1064460,    1.4918230]],\n",
    "            ['C', [   5.3364470,   -0.9144080,    2.1705280]],\n",
    "            ['C', [   5.6895490,   -2.0818670,    1.5007820]],\n",
    "            ['C', [   5.4000540,   -2.2323130,    0.1481350]],\n",
    "            ['C', [   4.7467230,   -1.2180160,   -0.5404770]],\n",
    "            ['N', [  -2.2589180,    0.0399120,   -0.0793330]],\n",
    "            ['C', [  -2.8394600,   -1.2343990,   -0.1494160]],\n",
    "            ['C', [  -4.2635450,   -1.0769890,    0.0660760]],\n",
    "            ['C', [  -4.5212550,    0.2638010,    0.2662190]],\n",
    "            ['C', [  -3.2669630,    0.9823890,    0.1722720]],\n",
    "            ['C', [  -2.2678900,   -2.4598950,   -0.3287380]],\n",
    "            ['C', [  -3.1299420,   -3.6058560,   -0.3236210]],\n",
    "            ['C', [  -4.5179520,   -3.4797390,   -0.1395160]],\n",
    "            ['C', [  -5.1056310,   -2.2512990,    0.0536940]],\n",
    "            ['C', [  -5.7352450,    1.0074800,    0.5140960]],\n",
    "            ['C', [  -5.6563790,    2.3761270,    0.6274610]],\n",
    "            ['C', [  -4.4287740,    3.0501460,    0.5083650]],\n",
    "            ['C', [  -3.2040560,    2.3409470,    0.2746950]],\n",
    "            ['H', [  -0.7813570,    1.5286610,    1.5426490]],\n",
    "            ['H', [  -0.7079140,   -0.7911480,   -2.0611600]],\n",
    "            ['H', [   1.7161320,   -0.2933710,   -2.3302930]],\n",
    "            ['H', [   1.6308220,    2.0660550,    1.2427990]],\n",
    "            ['H', [   4.4214900,    1.0345500,    1.9875450]],\n",
    "            ['H', [   5.5773000,   -0.7951290,    3.2218590]],\n",
    "            ['H', [   6.2017810,   -2.8762260,    2.0345740]],\n",
    "            ['H', [   5.6906680,   -3.1381740,   -0.3739110]],\n",
    "            ['H', [   4.5337010,   -1.3031330,   -1.6001680]],\n",
    "            ['H', [  -1.1998460,   -2.5827750,   -0.4596910]],\n",
    "            ['H', [  -2.6937370,   -4.5881470,   -0.4657540]],\n",
    "            ['H', [  -5.1332290,   -4.3740010,   -0.1501080]],\n",
    "            ['H', [  -6.1752900,   -2.1516170,    0.1987120]],\n",
    "            ['H', [  -6.6812260,    0.4853900,    0.6017680]],\n",
    "            ['H', [  -6.5574610,    2.9529350,    0.8109620]],\n",
    "            ['H', [  -4.3980410,    4.1305040,    0.5929440]],\n",
    "            ['H', [  -2.2726630,    2.8838620,    0.1712760]]]\n",
    "\n",
    "molecule = Molecule(geometry=geometry, charge=0, multiplicity=1)\n",
    "\n",
    "driver = ElectronicStructureMoleculeDriver(molecule=molecule, \n",
    "                                           basis='631g*', \n",
    "                                           driver_type=ElectronicStructureDriverType.PYSCF)"
   ]
  },
  {
   "cell_type": "markdown",
   "id": "05144bc5",
   "metadata": {},
   "source": [
    "<div class=\"alert alert-block alert-success\">\n",
    "    \n",
    "**Challenge 2a**\n",
    "    \n",
    "Question: Find out these numbers for the PSPCz molecule.\n",
    "    \n",
    "1. What is the number of C, H, N, O, S atoms?\n",
    "1. What is the total number of atoms?\n",
    "1. What is the total number of atomic orbitals (AO)?\n",
    "1. What is the total number of molecular orbitals (MO)?\n",
    "\n",
    "</div>\n",
    "\n",
    "<div class=\"alert alert-block alert-info\">\n",
    "    \n",
    "**How to count atomic orbitals?**\n",
    "\n",
    "The number depends on the basis. The number below is specific to `631g*` basis which we will use for this challenge. \n",
    "\n",
    "- C: 1s, 2s2p, 3s3p3d  = 1+4+9 = 14\n",
    "\n",
    "- H: 1s, 2s  = 1+1 = 2\n",
    "\n",
    "- N: 1s, 2s2p, 3s3p3d  = 1+4+9 = 14\n",
    "\n",
    "- O: 1s, 2s2p, 3s3p3d  = 1+4+9 = 14\n",
    "\n",
    "- S: 1s, 2s2p, 3s3p3d, 4s4p = 1+4+9+4 = 18"
   ]
  },
  {
   "cell_type": "code",
   "execution_count": 2,
   "id": "a32b91c8",
   "metadata": {},
   "outputs": [
    {
     "name": "stdout",
     "output_type": "stream",
     "text": [
      "{'C': 24, 'H': 17, 'N': 1, 'O': 2, 'S': 1, 'atoms': 45, 'AOs': 430, 'MOs': 430}\n"
     ]
    }
   ],
   "source": [
    "num_ao = {\n",
    "    'C': 14,\n",
    "    'H': 2,\n",
    "    'N': 14,\n",
    "    'O': 14,\n",
    "    'S': 18,\n",
    "}\n",
    "\n",
    "##############################\n",
    "# Provide your code here\n",
    "\n",
    "num_C_atom = 0\n",
    "num_H_atom = 0\n",
    "num_N_atom = 0\n",
    "num_O_atom = 0\n",
    "num_S_atom = 0\n",
    "num_atoms_total = len(geometry)\n",
    "num_AO_total = 0\n",
    "\n",
    "for atom in geometry:\n",
    "    if atom[0] == 'C':\n",
    "        num_C_atom += 1\n",
    "        num_AO_total += num_ao['C']\n",
    "    if atom[0] == 'H':\n",
    "        num_H_atom += 1\n",
    "        num_AO_total += num_ao['H']\n",
    "    if atom[0] == 'N':\n",
    "        num_N_atom += 1\n",
    "        num_AO_total += num_ao['N']\n",
    "    if atom[0] == 'O':\n",
    "        num_O_atom += 1\n",
    "        num_AO_total += num_ao['O']\n",
    "    if atom[0] == 'S':\n",
    "        num_S_atom += 1\n",
    "        num_AO_total += num_ao['S']\n",
    "    \n",
    "num_MO_total = num_AO_total\n",
    "\n",
    "##############################\n",
    "\n",
    "answer_ex2a ={\n",
    "    'C': num_C_atom,\n",
    "    'H': num_H_atom,\n",
    "    'N': num_N_atom,\n",
    "    'O': num_O_atom,\n",
    "    'S': num_S_atom,\n",
    "    'atoms': num_atoms_total,\n",
    "    'AOs': num_AO_total,\n",
    "    'MOs': num_MO_total\n",
    "}\n",
    "\n",
    "print(answer_ex2a)"
   ]
  },
  {
   "cell_type": "code",
   "execution_count": 3,
   "id": "d85ff593",
   "metadata": {},
   "outputs": [
    {
     "name": "stdout",
     "output_type": "stream",
     "text": [
      "Submitting your answer for 2a. Please wait...\n",
      "Congratulations 🎉! Your answer is correct and has been submitted.\n"
     ]
    }
   ],
   "source": [
    "# Check your answer and submit using the following code\n",
    "from qc_grader import grade_ex2a\n",
    "grade_ex2a(answer_ex2a)"
   ]
  },
  {
   "cell_type": "markdown",
   "id": "98047d20",
   "metadata": {},
   "source": [
    "As you found out yourself in the exercise above, PSPCz is a large molecule, consisting of many atoms and many atomic orbitals. Direct calculation of a large molecule is out of reach for current quantum systems. However, since we are only interested in the bandgap, calculating the energy of Highest Occupied Molecular Orbital (HOMO) and Lowest Unoccupied Molecular Orbital (LUMO) is sufficient. Here we applied a technique called active space transformation to reduce the number of molecular orbitals to only 2 (HOMO and LUMO):\n",
    "\n",
    "$$E_g = E_{LUMO} - E_{HOMO}$$\n",
    "\n",
    "\n",
    "<center><img src=\"resources/Molecule_HOMO-LUMO_diagram.svg\" width=\"600\"></center>\n",
    "\n",
    "\n",
    "Each circle here represents an electron in an orbital; when light or energy of a high enough frequency is absorbed by an electron in the HOMO, it jumps to the LUMO.\n",
    "\n",
    "For PSPCz molecules, we limit this excited state to just the first singlet and triplet states. In a singlet state, all electrons in a system are spin paired, giving them only one possible orientation in space. A singlet or triplet excited state can form by exciting one of the two electrons to a higher energy level. The excited electron retains the same spin orientation in a singlet excited state, whereas in a triplet excited state, the excited electron has the same spin orientation as the ground state electron. \n",
    "\n",
    "<center><img src=\"resources/spin.jpg\" width=\"300\"><figcaption>Spin in the ground and excited states</figcaption></center>\n",
    "\n",
    "One set of electron spins is unpaired in a triplet state, meaning there are three possible orientations in space with respect to the axis. LUMO (a-c) and HOMO (e-f) orbitals of the triplet state optimized structures of PSPCz (a, d) and its variants 2F-PSPCz (b, e) and 4F-PSPCz (c, f) respectively would then look something like this.\n",
    "\n",
    "\n",
    "<center><img src=\"resources/oled_paper_fig2.jpg\" width=\"600\"></center>\n",
    "\n",
    "<center><img src=\"resources/oled_paper_fig1.jpg\" width=\"600\"></center>\n",
    "\n",
    "\n",
    "By using the active space transformer method, we will manage to exclude non-core electronic states by restricting calculations to the singlet and triplet, i.e. the smallest possible active space and manage to compute this energy with a small number of qubits while keeping a high-quality description of the system."
   ]
  },
  {
   "cell_type": "code",
   "execution_count": 4,
   "id": "b4c60b72",
   "metadata": {
    "tags": []
   },
   "outputs": [],
   "source": [
    "from qiskit_nature.drivers.second_quantization import HDF5Driver\n",
    "\n",
    "driver_reduced = HDF5Driver(\"resources/PSPCz_reduced.hdf5\")\n",
    "properties = driver_reduced.run()"
   ]
  },
  {
   "cell_type": "code",
   "execution_count": 5,
   "id": "a63297f8",
   "metadata": {
    "tags": []
   },
   "outputs": [
    {
     "name": "stdout",
     "output_type": "stream",
     "text": [
      "ElectronicEnergy\n",
      "\t(AO) 1-Body Terms:\n",
      "\t\tAlpha\n",
      "\t\t<(430, 430) matrix with 184900 non-zero entries>\n",
      "\t\t[0, 0] = -11.481107571585675\n",
      "\t\t[0, 1] = -2.6982522446048134\n",
      "\t\t[0, 2] = -2.237143188610541\n",
      "\t\t[0, 3] = 0.0017433998087159669\n",
      "\t\t[0, 4] = 0.0007741436199762753\n",
      "\t\t... skipping 184895 entries\n",
      "\t\tBeta\n",
      "\t\t<(430, 430) matrix with 184900 non-zero entries>\n",
      "\t\t[0, 0] = -11.481107571585675\n",
      "\t\t[0, 1] = -2.6982522446048134\n",
      "\t\t[0, 2] = -2.237143188610541\n",
      "\t\t[0, 3] = 0.0017433998087159669\n",
      "\t\t[0, 4] = 0.0007741436199762753\n",
      "\t\t... skipping 184895 entries\n",
      "\t(MO) 1-Body Terms:\n",
      "\t\tAlpha\n",
      "\t\t<(2, 2) matrix with 4 non-zero entries>\n",
      "\t\t[0, 0] = -0.4968112637934733\n",
      "\t\t[0, 1] = 0.00027750088691888997\n",
      "\t\t[1, 0] = 0.00027750088691825913\n",
      "\t\t[1, 1] = -0.1843594001763901\n",
      "\t\tBeta\n",
      "\t\t<(2, 2) matrix with 4 non-zero entries>\n",
      "\t\t[0, 0] = -0.4968112637934733\n",
      "\t\t[0, 1] = 0.00027750088691888997\n",
      "\t\t[1, 0] = 0.00027750088691825913\n",
      "\t\t[1, 1] = -0.1843594001763901\n",
      "\t(MO) 2-Body Terms:\n",
      "\t\tAlpha-Alpha\n",
      "\t\t<(2, 2, 2, 2) matrix with 16 non-zero entries>\n",
      "\t\t[0, 0, 0, 0] = 0.22795982746869856\n",
      "\t\t[0, 0, 0, 1] = -0.00027753808830176344\n",
      "\t\t[0, 0, 1, 0] = -0.00027753808830176615\n",
      "\t\t[0, 0, 1, 1] = 0.13689436105642472\n",
      "\t\t[0, 1, 0, 0] = -0.0002775380883017597\n",
      "\t\t... skipping 11 entries\n",
      "\t\tBeta-Alpha\n",
      "\t\t<(2, 2, 2, 2) matrix with 16 non-zero entries>\n",
      "\t\t[0, 0, 0, 0] = 0.22795982746869856\n",
      "\t\t[0, 0, 0, 1] = -0.00027753808830176344\n",
      "\t\t[0, 0, 1, 0] = -0.00027753808830176615\n",
      "\t\t[0, 0, 1, 1] = 0.13689436105642472\n",
      "\t\t[0, 1, 0, 0] = -0.0002775380883017597\n",
      "\t\t... skipping 11 entries\n",
      "\t\tBeta-Beta\n",
      "\t\t<(2, 2, 2, 2) matrix with 16 non-zero entries>\n",
      "\t\t[0, 0, 0, 0] = 0.22795982746869856\n",
      "\t\t[0, 0, 0, 1] = -0.00027753808830176344\n",
      "\t\t[0, 0, 1, 0] = -0.00027753808830176615\n",
      "\t\t[0, 0, 1, 1] = 0.13689436105642472\n",
      "\t\t[0, 1, 0, 0] = -0.0002775380883017597\n",
      "\t\t... skipping 11 entries\n",
      "\t\tAlpha-Beta\n",
      "\t\t<(2, 2, 2, 2) matrix with 16 non-zero entries>\n",
      "\t\t[0, 0, 0, 0] = 0.22795982746869856\n",
      "\t\t[0, 0, 0, 1] = -0.00027753808830176344\n",
      "\t\t[0, 0, 1, 0] = -0.00027753808830176615\n",
      "\t\t[0, 0, 1, 1] = 0.13689436105642472\n",
      "\t\t[0, 1, 0, 0] = -0.0002775380883017597\n",
      "\t\t... skipping 11 entries\n",
      "\tEnergy Shifts:\n",
      "\t\tActiveSpaceTransformer = -4042.866322560092\n"
     ]
    }
   ],
   "source": [
    "from qiskit_nature.properties.second_quantization.electronic import ElectronicEnergy\n",
    "\n",
    "electronic_energy = properties.get_property(ElectronicEnergy)\n",
    "print(electronic_energy)"
   ]
  },
  {
   "cell_type": "markdown",
   "id": "292393c5",
   "metadata": {
    "execution": {
     "iopub.execute_input": "2021-09-18T02:17:23.308949Z",
     "iopub.status.busy": "2021-09-18T02:17:23.308711Z",
     "iopub.status.idle": "2021-09-18T02:17:23.321441Z",
     "shell.execute_reply": "2021-09-18T02:17:23.320065Z",
     "shell.execute_reply.started": "2021-09-18T02:17:23.308925Z"
    },
    "tags": []
   },
   "source": [
    "You can see that `(AO) 1-Body Terms` contains a (430 x 430) matrix which describes the original molecule with 430 atomic orbitals which translate to 430 molecular orbitals (?). After `ActiveSpaceTransformation` (pre-calculated), the number of molecular orbitals `(MO) 1-Body Terms` is reduced to a (2x2) matrix."
   ]
  },
  {
   "cell_type": "markdown",
   "id": "3b9f88d1",
   "metadata": {},
   "source": [
    "<div class=\"alert alert-block alert-success\">\n",
    "    \n",
    "**Challenge 2b**\n",
    "    \n",
    "Question: Use property framework to find out the answer for the questions below. \n",
    "    \n",
    "1. What is the number of electrons in the system after active space transformation?\n",
    "1. What is the number of molecular orbitals (MO)?\n",
    "1. What is the number of spin orbitals (SO)?\n",
    "1. How many qubits would you need to simulate this molecule with Jordan-Wigner mapping?\n",
    "\n",
    "</div>"
   ]
  },
  {
   "cell_type": "code",
   "execution_count": 6,
   "id": "5f9f2668",
   "metadata": {},
   "outputs": [
    {
     "name": "stdout",
     "output_type": "stream",
     "text": [
      "ParticleNumber:\n",
      "\t4 SOs\n",
      "\t1 alpha electrons\n",
      "\t\torbital occupation: [1. 0.]\n",
      "\t1 beta electrons\n",
      "\t\torbital occupation: [1. 0.]\n",
      "{'electrons': 2, 'MOs': 2, 'SOs': 4, 'qubits': 4}\n"
     ]
    }
   ],
   "source": [
    "from qiskit_nature.properties.second_quantization.electronic import ParticleNumber\n",
    "\n",
    "##############################\n",
    "# Provide your code here\n",
    "\n",
    "particle_number = properties.get_property(ParticleNumber)\n",
    "print(particle_number)\n",
    "num_electron = particle_number.num_alpha + particle_number.num_beta\n",
    "num_MO = 2\n",
    "num_SO = particle_number.num_spin_orbitals\n",
    "num_qubits = 4\n",
    "\n",
    "##############################\n",
    "\n",
    "answer_ex2b = {\n",
    "    'electrons': num_electron,\n",
    "    'MOs': num_MO,\n",
    "    'SOs': num_SO,\n",
    "    'qubits': num_qubits\n",
    "}\n",
    "\n",
    "print(answer_ex2b)"
   ]
  },
  {
   "cell_type": "code",
   "execution_count": 7,
   "id": "58cd92be",
   "metadata": {
    "tags": []
   },
   "outputs": [
    {
     "name": "stdout",
     "output_type": "stream",
     "text": [
      "Submitting your answer for 2b. Please wait...\n",
      "Congratulations 🎉! Your answer is correct and has been submitted.\n"
     ]
    }
   ],
   "source": [
    "# Check your answer and submit using the following code\n",
    "from qc_grader import grade_ex2b\n",
    "grade_ex2b(answer_ex2b)"
   ]
  },
  {
   "cell_type": "markdown",
   "id": "f93e47c9",
   "metadata": {},
   "source": [
    "### 2. Electronic structure problem\n",
    "\n",
    "You can then create an ElectronicStructureProblem that can produce the list of fermionic operators before mapping them to qubits (Pauli strings). This is the first step in defining your molecular system in its ground state. You can read more about solving for the ground state in [**this tutorial**](https://qiskit.org/documentation/nature/tutorials/03_ground_state_solvers.html).\n",
    "\n",
    "<center><img src=\"resources/H2_gs.png\" width=\"300\"></center>"
   ]
  },
  {
   "cell_type": "code",
   "execution_count": 8,
   "id": "6c6f3b58",
   "metadata": {
    "tags": []
   },
   "outputs": [
    {
     "name": "stdout",
     "output_type": "stream",
     "text": [
      "Fermionic Operator\n",
      "register length=4, number terms=26\n",
      "  (0.01572205126528473+0j) * ( +_0 -_1 +_2 -_3 )\n",
      "+ (-0.01572205126528473+0j) * ( +_0 -_1 -_2 +_3 )\n",
      "+ (0.00027750088691888997+0j) * ( +_0 -_1 )\n",
      "+ (0.0003149147870892302+0j) * ( +_0 -_1 +_3 -_3 )\n",
      "+  ...\n"
     ]
    }
   ],
   "source": [
    "from qiskit_nature.problems.second_quantization import ElectronicStructureProblem\n",
    "\n",
    "##############################\n",
    "# Provide your code here\n",
    "\n",
    "es_problem = ElectronicStructureProblem(driver_reduced)\n",
    "\n",
    "##############################\n",
    "\n",
    "second_q_op = es_problem.second_q_ops()\n",
    "print(second_q_op[0])"
   ]
  },
  {
   "cell_type": "markdown",
   "id": "e17e2c51",
   "metadata": {},
   "source": [
    "### 3. QubitConverter\n",
    "\n",
    "Allows to define the mapping that you will use in the simulation."
   ]
  },
  {
   "cell_type": "code",
   "execution_count": 9,
   "id": "71327193",
   "metadata": {
    "tags": []
   },
   "outputs": [
    {
     "name": "stdout",
     "output_type": "stream",
     "text": [
      "-0.45781773131305903 * IIII\n",
      "- 0.009666607989543467 * ZIII\n",
      "+ 0.12689900731767084 * IZII\n",
      "+ 0.030293077447785 * ZZII\n",
      "- 0.009666607989543479 * IIZI\n",
      "+ 0.03732964036584735 * ZIZI\n",
      "+ 0.034223590264106186 * IZZI\n",
      "+ 0.12689900731767084 * IIIZ\n",
      "+ 0.034223590264106186 * ZIIZ\n",
      "+ 0.05698995686717464 * IZIZ\n",
      "+ 0.030293077447785 * IIZZ\n",
      "+ 0.00014809461815615455 * XXII\n",
      "+ 0.00014809461815615455 * YYII\n",
      "- 7.872869677230731e-05 * XXZI\n",
      "- 7.872869677230731e-05 * YYZI\n",
      "+ 6.938452207544002e-05 * XXIZ\n",
      "+ 6.938452207544002e-05 * YYIZ\n",
      "+ 0.00014809461815615455 * IIXX\n",
      "- 7.872869677230731e-05 * ZIXX\n",
      "+ 6.938452207544002e-05 * IZXX\n",
      "+ 0.00014809461815615455 * IIYY\n",
      "- 7.872869677230731e-05 * ZIYY\n",
      "+ 6.938452207544002e-05 * IZYY\n",
      "+ 0.003930512816321183 * XXXX\n",
      "+ 0.003930512816321183 * YYXX\n",
      "+ 0.003930512816321183 * XXYY\n",
      "+ 0.003930512816321183 * YYYY\n"
     ]
    }
   ],
   "source": [
    "from qiskit_nature.converters.second_quantization import QubitConverter\n",
    "from qiskit_nature.mappers.second_quantization import JordanWignerMapper, ParityMapper, BravyiKitaevMapper\n",
    "\n",
    "##############################\n",
    "# Provide your code here\n",
    "\n",
    "qubit_converter = QubitConverter(JordanWignerMapper()) # two_qubit_reduction=True\n",
    "\n",
    "##############################\n",
    "\n",
    "qubit_op = qubit_converter.convert(second_q_op[0], particle_number)\n",
    "print(qubit_op)"
   ]
  },
  {
   "cell_type": "markdown",
   "id": "3a0c1f33",
   "metadata": {},
   "source": [
    "### 4. Initial state\n",
    "\n",
    "A good initial state in chemistry is the HartreeFock state. We can initialize it as follows:"
   ]
  },
  {
   "cell_type": "code",
   "execution_count": 10,
   "id": "f5b00153",
   "metadata": {
    "tags": []
   },
   "outputs": [
    {
     "data": {
      "image/png": "[encoded data removed]",
      "text/plain": [
       "<Figure size 146.797x264.88 with 1 Axes>"
      ]
     },
     "execution_count": 10,
     "metadata": {},
     "output_type": "execute_result"
    }
   ],
   "source": [
    "from qiskit_nature.circuit.library import HartreeFock\n",
    "\n",
    "##############################\n",
    "# Provide your code here\n",
    "\n",
    "init_state = HartreeFock(num_SO, particle_number.num_particles, qubit_converter)\n",
    "\n",
    "##############################\n",
    "\n",
    "init_state.draw()"
   ]
  },
  {
   "cell_type": "markdown",
   "id": "ccbaee31",
   "metadata": {},
   "source": [
    "### 5. Ansatz\n",
    "\n",
    "One of the most important choices is the quantum circuit that you choose to approximate your ground state.\n",
    "Here is the example of qiskit circuit library that contains many possibilities for making your own circuit."
   ]
  },
  {
   "cell_type": "code",
   "execution_count": 11,
   "id": "f30d3bd3",
   "metadata": {
    "tags": []
   },
   "outputs": [
    {
     "name": "stderr",
     "output_type": "stream",
     "text": [
      "/opt/conda/lib/python3.8/site-packages/sympy/core/expr.py:3949: SymPyDeprecationWarning: \n",
      "\n",
      "expr_free_symbols method has been deprecated since SymPy 1.9. See\n",
      "https://github.com/sympy/sympy/issues/21494 for more info.\n",
      "\n",
      "  SymPyDeprecationWarning(feature=\"expr_free_symbols method\",\n"
     ]
    },
    {
     "data": {
      "image/png": "[encoded data removed]",
      "text/plain": [
       "<Figure size 628.397x264.88 with 1 Axes>"
      ]
     },
     "execution_count": 11,
     "metadata": {},
     "output_type": "execute_result"
    }
   ],
   "source": [
    "from qiskit.circuit.library import EfficientSU2, TwoLocal, NLocal, PauliTwoDesign\n",
    "from qiskit_nature.circuit.library import UCCSD, PUCCD, SUCCD\n",
    "\n",
    "##############################\n",
    "# Provide your code here\n",
    "\n",
    "#ansatz = TwoLocal(num_SO, rotation_blocks = ['h', 'rx'], entanglement_blocks = 'cz', entanglement='full', reps=2, parameter_prefix = 'y')\n",
    "#ansatz = TwoLocal(num_SO, ['ry', 'rz'], 'cz')\n",
    "\n",
    "ansatz = TwoLocal(num_SO, rotation_blocks = ['ry'], entanglement_blocks = 'cz', entanglement='linear', reps=2)\n",
    "ansatz.compose(init_state, front=True, inplace=True)\n",
    "\n",
    "##############################\n",
    "\n",
    "ansatz.decompose().draw()\n"
   ]
  },
  {
   "cell_type": "markdown",
   "id": "b5c8f3f2",
   "metadata": {},
   "source": [
    "## Ground state energy calculation \n",
    "\n",
    "### Calculation using NumPy\n",
    "\n",
    "For learning purposes, we can solve the problem exactly with the exact diagonalization of the Hamiltonian matrix so we know where to aim with VQE. Of course, the dimensions of this matrix scale exponentially in the number of molecular orbitals so you can try doing this for a large molecule of your choice and see how slow this becomes. For very large systems you would run out of memory trying to store their wavefunctions.\n",
    "\n",
    "<center><img src=\"resources/vqe.png\" width=\"600\"></center>"
   ]
  },
  {
   "cell_type": "code",
   "execution_count": 12,
   "id": "38cc3c99",
   "metadata": {
    "tags": []
   },
   "outputs": [
    {
     "name": "stdout",
     "output_type": "stream",
     "text": [
      "Exact electronic energy: -0.766115 Hartree\n",
      "\n",
      "=== GROUND STATE ENERGY ===\n",
      " \n",
      "* Electronic ground state energy (Hartree): -4043.632437386865\n",
      "  - computed part:      -0.766114826773\n",
      "  - ActiveSpaceTransformer extracted energy part: -4042.866322560092\n",
      " \n",
      "=== MEASURED OBSERVABLES ===\n",
      " \n",
      "  0:  # Particles: 2.000 S: 0.000 S^2: 0.000 M: 0.000\n"
     ]
    }
   ],
   "source": [
    "from qiskit.algorithms import NumPyMinimumEigensolver\n",
    "from qiskit_nature.algorithms import GroundStateEigensolver\n",
    "\n",
    "##############################\n",
    "# Provide your code here\n",
    "\n",
    "numpy_solver = NumPyMinimumEigensolver()\n",
    "numpy_ground_state_solver = GroundStateEigensolver(qubit_converter, numpy_solver)\n",
    "numpy_results = numpy_ground_state_solver.solve(es_problem)\n",
    "\n",
    "##############################\n",
    "\n",
    "exact_energy = numpy_results.computed_energies[0]\n",
    "print(f\"Exact electronic energy: {exact_energy:.6f} Hartree\\n\")\n",
    "print(numpy_results)"
   ]
  },
  {
   "cell_type": "code",
   "execution_count": 13,
   "id": "196be28b",
   "metadata": {},
   "outputs": [
    {
     "name": "stdout",
     "output_type": "stream",
     "text": [
      "Submitting your answer for 2c. Please wait...\n",
      "Congratulations 🎉! Your answer is correct and has been submitted.\n"
     ]
    }
   ],
   "source": [
    "# Check your answer and submit using the following code\n",
    "from qc_grader import grade_ex2c\n",
    "grade_ex2c(numpy_results)"
   ]
  },
  {
   "cell_type": "markdown",
   "id": "e1656df6",
   "metadata": {},
   "source": [
    "### Calculation using VQE\n",
    "\n",
    "The next step would be to use VQE to calculate this ground state energy and you would have found the solution to one half of your electronic problem!"
   ]
  },
  {
   "cell_type": "code",
   "execution_count": 14,
   "id": "092e0e70",
   "metadata": {
    "tags": []
   },
   "outputs": [],
   "source": [
    "from qiskit.providers.aer import StatevectorSimulator, QasmSimulator\n",
    "from qiskit.algorithms.optimizers import COBYLA, L_BFGS_B, SPSA, SLSQP\n",
    "\n",
    "##############################\n",
    "# Provide your code here\n",
    "\n",
    "backend = QasmSimulator()\n",
    "optimizer = COBYLA(maxiter=1000)\n",
    "\n",
    "##############################"
   ]
  },
  {
   "cell_type": "code",
   "execution_count": 15,
   "id": "bd90631f",
   "metadata": {
    "tags": []
   },
   "outputs": [],
   "source": [
    "from qiskit.algorithms import VQE\n",
    "from qiskit_nature.algorithms import VQEUCCFactory, GroundStateEigensolver\n",
    "from jupyterplot import ProgressPlot\n",
    "import numpy as np\n",
    "\n",
    "error_threshold = 10 # mHartree\n",
    "\n",
    "np.random.seed(5)  # fix seed for reproducibility\n",
    "initial_point = np.random.random(ansatz.num_parameters)"
   ]
  },
  {
   "cell_type": "code",
   "execution_count": 16,
   "id": "f90f9121",
   "metadata": {
    "tags": []
   },
   "outputs": [
    {
     "name": "stderr",
     "output_type": "stream",
     "text": [
      "/opt/conda/lib/python3.8/site-packages/sympy/core/expr.py:3949: SymPyDeprecationWarning: \n",
      "\n",
      "expr_free_symbols method has been deprecated since SymPy 1.9. See\n",
      "https://github.com/sympy/sympy/issues/21494 for more info.\n",
      "\n",
      "  SymPyDeprecationWarning(feature=\"expr_free_symbols method\",\n"
     ]
    },
    {
     "name": "stdout",
     "output_type": "stream",
     "text": [
      "=== GROUND STATE ENERGY ===\n",
      " \n",
      "* Electronic ground state energy (Hartree): -4043.627293744817\n",
      "  - computed part:      -0.760971184724\n",
      "  - ActiveSpaceTransformer extracted energy part: -4042.866322560092\n",
      " \n",
      "=== MEASURED OBSERVABLES ===\n",
      " \n",
      "  0:  # Particles: 2.020 S: 0.033 S^2: 0.034 M: 0.014\n"
     ]
    }
   ],
   "source": [
    "from qiskit.utils import QuantumInstance\n",
    "\n",
    "# for live plotting\n",
    "\"\"\"\n",
    "pp = ProgressPlot(plot_names=['Energy'],\n",
    "                  line_names=['Runtime VQE', f'Target + {error_threshold}mH', 'Target']) \n",
    "\n",
    "intermediate_info = {\n",
    "    'nfev': [],\n",
    "    'parameters': [],\n",
    "    'energy': [],\n",
    "    'stddev': []\n",
    "}\n",
    "\n",
    "def callback(nfev, parameters, energy, stddev):\n",
    "    intermediate_info['nfev'].append(nfev)\n",
    "    intermediate_info['parameters'].append(parameters)\n",
    "    intermediate_info['energy'].append(energy)\n",
    "    intermediate_info['stddev'].append(stddev)\n",
    "    pp.update([[energy, exact_energy+error_threshold/1000, exact_energy]])\n",
    "\"\"\"\n",
    "\n",
    "##############################\n",
    "# Provide your code here\n",
    "\n",
    "quantum_instance = QuantumInstance(backend)\n",
    "\n",
    "#vqe_solver = VQEUCCFactory(quantum_instance, optimizer=optimizer)\n",
    "#vqe_solver = VQE(ansatz = ansatz, quantum_instance = quantum_instance)\n",
    "#vqe_solver = VQE(second_q_op, ansatz, optimizer, init_state, quantum_instance)\n",
    "vqe_solver = VQE(ansatz = ansatz, optimizer = optimizer, initial_point = initial_point, quantum_instance = quantum_instance)\n",
    "\n",
    "vqe_ground_state_solver = GroundStateEigensolver(qubit_converter, vqe_solver)\n",
    "vqe_results = vqe_ground_state_solver.solve(es_problem)\n",
    "\n",
    "##############################\n",
    "\n",
    "print(vqe_results)"
   ]
  },
  {
   "cell_type": "code",
   "execution_count": 17,
   "id": "33c9fc09",
   "metadata": {
    "tags": []
   },
   "outputs": [
    {
     "name": "stdout",
     "output_type": "stream",
     "text": [
      "Error is: 5.144 mHartree\n"
     ]
    }
   ],
   "source": [
    "error = (vqe_results.computed_energies[0] - exact_energy) * 1000 # mHartree\n",
    "print(f'Error is: {error:.3f} mHartree')"
   ]
  },
  {
   "cell_type": "code",
   "execution_count": 18,
   "id": "50843931",
   "metadata": {
    "tags": []
   },
   "outputs": [
    {
     "name": "stdout",
     "output_type": "stream",
     "text": [
      "Submitting your answer for 2d. Please wait...\n",
      "Congratulations 🎉! Your answer is correct and has been submitted.\n"
     ]
    }
   ],
   "source": [
    "# Check your answer and submit using the following code\n",
    "from qc_grader import grade_ex2d\n",
    "grade_ex2d(vqe_results)"
   ]
  },
  {
   "cell_type": "markdown",
   "id": "144bf8c7",
   "metadata": {},
   "source": [
    "## Excited state calculation \n",
    "\n",
    "### Calculation using QEOM\n",
    "\n",
    "For the molecule of our interest we also need to compute the same but this time for the excited state of our molecular hamiltonian. Since we've already defined the system, we would now need to access the excitation energy using the quantum Equation of Motion (qEOM) algorithm which does this by solving the following pseudo-eigenvalue problem\n",
    "\n",
    "<center><img src=\"resources/math-1.svg\" width=\"400\"></center>\n",
    "\n",
    "with\n",
    "\n",
    "<center><img src=\"resources/math-2.svg\" width=\"300\"></center>\n",
    "\n",
    "where each corresponding matrix element must be measured on our quantum computer with its corresponding ground state.\n",
    "\n",
    "To learn more, you can read up about excited state calculation with [**this tutorial**](https://qiskit.org/documentation/nature/tutorials/04_excited_states_solvers.html), and about qEOM itself from the [**corresponding paper by Ollitrault et al., 2019**](https://arxiv.org/abs/1910.12890)."
   ]
  },
  {
   "cell_type": "code",
   "execution_count": 19,
   "id": "10089c13",
   "metadata": {
    "tags": []
   },
   "outputs": [
    {
     "name": "stdout",
     "output_type": "stream",
     "text": [
      "=== GROUND STATE ENERGY ===\n",
      " \n",
      "* Electronic ground state energy (Hartree): -4043.627125378622\n",
      "  - computed part:      -0.76080281853\n",
      "  - ActiveSpaceTransformer extracted energy part: -4042.866322560092\n",
      " \n",
      "=== EXCITED STATE ENERGIES ===\n",
      " \n",
      "  1: \n",
      "* Electronic excited state energy (Hartree): -4043.421096926516\n",
      "* Electronic excited state energy (Hartree): -4043.421096926516\n",
      "> Total excited state energy (Hartree): -4043.421096926516\n",
      "  2: \n",
      "* Electronic excited state energy (Hartree): -4043.389999114137\n",
      "* Electronic excited state energy (Hartree): -4043.389999114137\n",
      "> Total excited state energy (Hartree): -4043.389999114137\n",
      "  3: \n",
      "* Electronic excited state energy (Hartree): -4043.080400885835\n",
      "* Electronic excited state energy (Hartree): -4043.080400885835\n",
      "> Total excited state energy (Hartree): -4043.080400885835\n",
      " \n",
      "=== MEASURED OBSERVABLES ===\n",
      " \n",
      "  0:  # Particles: 2.001 S: 0.016 S^2: 0.016 M: 0.002\n"
     ]
    }
   ],
   "source": [
    "from qiskit_nature.algorithms import QEOM\n",
    "\n",
    "##############################\n",
    "# Provide your code here  \n",
    "\n",
    "qeom_excited_state_solver = QEOM(vqe_ground_state_solver)\n",
    "qeom_results = qeom_excited_state_solver.solve(es_problem)\n",
    "\n",
    "##############################\n",
    "\n",
    "print(qeom_results)"
   ]
  },
  {
   "cell_type": "code",
   "execution_count": 20,
   "id": "966911a8",
   "metadata": {
    "tags": []
   },
   "outputs": [
    {
     "name": "stdout",
     "output_type": "stream",
     "text": [
      "Submitting your answer for 2e. Please wait...\n",
      "Congratulations 🎉! Your answer is correct and has been submitted.\n"
     ]
    }
   ],
   "source": [
    "# Check your answer and submit using the following code\n",
    "from qc_grader import grade_ex2e\n",
    "grade_ex2e(qeom_results)"
   ]
  },
  {
   "cell_type": "markdown",
   "id": "eeb75226",
   "metadata": {},
   "source": [
    "Finally, you just need to calculate the band gap or energy gap (which is the minimum amount of energy required by an electron to break free of its ground state into its excited state) by computing the difference of the two sets of energies that you have calculated."
   ]
  },
  {
   "cell_type": "code",
   "execution_count": 21,
   "id": "bd6c33cd",
   "metadata": {
    "tags": []
   },
   "outputs": [
    {
     "data": {
      "text/plain": [
       "0.20602845210539733"
      ]
     },
     "execution_count": 21,
     "metadata": {},
     "output_type": "execute_result"
    }
   ],
   "source": [
    "bandgap = qeom_results.computed_energies[1] - qeom_results.computed_energies[0]\n",
    "bandgap # in Hartree"
   ]
  },
  {
   "cell_type": "markdown",
   "id": "53e635bb",
   "metadata": {},
   "source": [
    "## Running VQE on the cloud using Qiskit Runtime\n",
    "\n",
    "Qiskit Runtime is a new architecture offered by IBM Quantum that streamlines computations requiring many iterations. These experiments will execute significantly faster within this improved hybrid quantum/classical process.\n",
    "\n",
    "Qiskit Runtime allows authorized users to upload their Qiskit quantum programs for themselves or others to use. A Qiskit quantum program, also called a Qiskit Runtime program, is a piece of Python code that takes certain inputs, performs quantum and maybe classical computation, interactively provides intermediate results if desired, and returns the processing results. The same or other authorized users can then invoke these quantum programs by simply passing in the required input parameters.\n",
    "\n",
    "\n",
    "<center><img src=\"resources/qiskit-runtime1.gif\" width=\"600\"></center>\n",
    "\n",
    "<center><img src=\"resources/runtime_arch.png\" width=\"600\"></center>\n",
    "\n",
    "\n",
    "To run the VQE using Qiskit Runtime, we only have to do very few changes from the local VQE run and mainly have to replace the VQE class by the VQEProgram class. Both follow the same MinimumEigensolver interface and thus share the compute_minimum_eigenvalue method to execute the algorithm and return the same type of result object. Merely the signature of the initializer differs sligthly.\n",
    "\n",
    "We start by choosing the provider with access to the Qiskit Runtime service and the backend to execute the circuits on.\n",
    "\n",
    "For more information about Qiskit Runtime, please refer to [**VQEProgram**](https://qiskit.org/documentation/partners/qiskit_runtime/tutorials/vqe.html#Runtime-VQE:-VQEProgram) and [**Leveraging Qiskit Runtime**](https://qiskit.org/documentation/nature/tutorials/07_leveraging_qiskit_runtime.html) tutorials."
   ]
  },
  {
   "cell_type": "code",
   "execution_count": 22,
   "id": "6a34f3c8",
   "metadata": {},
   "outputs": [
    {
     "name": "stdout",
     "output_type": "stream",
     "text": [
      "You have been not assigned to a challenge provider yet. Note that you need to pass at least one exercise, and it may take up to 12 hours to get assigned. Meanwhile, please proceed to other exercises and try again later.\n"
     ]
    }
   ],
   "source": [
    "from qc_grader.util import get_challenge_provider\n",
    "provider = get_challenge_provider()\n",
    "if provider:\n",
    "    backend = provider.get_backend('ibmq_qasm_simulator')"
   ]
  },
  {
   "cell_type": "code",
   "execution_count": 23,
   "id": "3835b7fc",
   "metadata": {
    "tags": []
   },
   "outputs": [
    {
     "name": "stdout",
     "output_type": "stream",
     "text": [
      "=== GROUND STATE ENERGY ===\n",
      " \n",
      "* Electronic ground state energy (Hartree): -4043.625869254675\n",
      "  - computed part:      -0.759546694583\n",
      "  - ActiveSpaceTransformer extracted energy part: -4042.866322560092\n",
      " \n",
      "=== MEASURED OBSERVABLES ===\n",
      " \n",
      "  0:  # Particles: 2.000 S: 0.010 S^2: 0.010 M: 0.006\n"
     ]
    }
   ],
   "source": [
    "from qiskit_nature.runtime import VQEProgram\n",
    "\n",
    "error_threshold = 10 # mHartree\n",
    "\n",
    "'''\n",
    "# for live plotting\n",
    "pp = ProgressPlot(plot_names=['Energy'],\n",
    "                  line_names=['Runtime VQE', f'Target + {error_threshold}mH', 'Target']) \n",
    "\n",
    "intermediate_info = {\n",
    "    'nfev': [],\n",
    "    'parameters': [],\n",
    "    'energy': [],\n",
    "    'stddev': []\n",
    "}\n",
    "\n",
    "def callback(nfev, parameters, energy, stddev):\n",
    "    intermediate_info['nfev'].append(nfev)\n",
    "    intermediate_info['parameters'].append(parameters)\n",
    "    intermediate_info['energy'].append(energy)\n",
    "    intermediate_info['stddev'].append(stddev)\n",
    "    pp.update([[energy,exact_energy+error_threshold/1000, exact_energy]])\n",
    "\n",
    "'''\n",
    "##############################\n",
    "# Provide your code here \n",
    "\n",
    "optimizer = {\n",
    "    'name': 'QN-SPSA',  # leverage the Quantum Natural SPSA\n",
    "    # 'name': 'SPSA',  # set to ordinary SPSA\n",
    "    'maxiter': 100,\n",
    "}\n",
    "    \n",
    "runtime_vqe = VQEProgram(ansatz=ansatz,\n",
    "                         optimizer=optimizer,\n",
    "                         initial_point=initial_point,\n",
    "                         provider=provider,\n",
    "                         backend=backend,\n",
    "                         shots=1024)\n",
    "\n",
    "vqe_ground_state_solver = GroundStateEigensolver(qubit_converter, vqe_solver)\n",
    "vqe_results = vqe_ground_state_solver.solve(es_problem)\n",
    "\n",
    "##############################\n",
    "\n",
    "print(vqe_results)"
   ]
  },
  {
   "cell_type": "markdown",
   "id": "71bb7a75",
   "metadata": {},
   "source": [
    "<div class=\"alert alert-block alert-success\">\n",
    "\n",
    "**Challenge 2f grading**\n",
    "    \n",
    "The grading for this exercise is slightly different from the previous exercises. \n",
    "    \n",
    "1. You will first need to use `prepare_ex2f` to submit a runtime job to IBM Quantum (to run on a simulator), using `runtime_vqe (VQEProgram)`, `qubit_converter (QubitConverter)`, `es_problem (ElectronicStructureProblem)`. Depending on the queue, the job can take up to a few minutes to complete. Under the hood, the `prepare_ex2f` does the following:\n",
    "```python\n",
    "runtime_vqe_groundstate_solver = GroundStateEigensolver(qubit_converter, runtime_vqe)\n",
    "runtime_vqe_result = runtime_vqe_groundstate_solver.solve(es_problem)\n",
    "```\n",
    "    \n",
    "2. After the job has completed, you can use `grade_ex2f` to check the answer and submit."
   ]
  },
  {
   "cell_type": "code",
   "execution_count": 24,
   "id": "348bc7bf",
   "metadata": {},
   "outputs": [
    {
     "name": "stdout",
     "output_type": "stream",
     "text": [
      "You are not using the challenge provider. Overwriting provider...\n",
      "You are not using the ibmq_qasm_simulator backend. Overwriting backend...\n",
      "Starting experiment. Please wait...\n",
      "You may monitor the job (id: c6282it0p3h5hl4c7heg) status and proceed to grading when it successfully completes.\n"
     ]
    }
   ],
   "source": [
    "# Submit a runtime job using the following code\n",
    "from qc_grader import prepare_ex2f\n",
    "runtime_job = prepare_ex2f(runtime_vqe, qubit_converter, es_problem)"
   ]
  },
  {
   "cell_type": "code",
   "execution_count": 29,
   "id": "2b49aa7c",
   "metadata": {},
   "outputs": [
    {
     "name": "stdout",
     "output_type": "stream",
     "text": [
      "Submitting your answer for 2f. Please wait...\n",
      "Congratulations 🎉! Your answer is correct and has been submitted.\n"
     ]
    }
   ],
   "source": [
    "# Check your answer and submit using the following code\n",
    "from qc_grader import grade_ex2f\n",
    "grade_ex2f(runtime_job)"
   ]
  },
  {
   "cell_type": "code",
   "execution_count": 26,
   "id": "e75774d3",
   "metadata": {},
   "outputs": [
    {
     "name": "stdout",
     "output_type": "stream",
     "text": [
      "(-0.7633220123912721+0j)\n"
     ]
    }
   ],
   "source": [
    "print(runtime_job.result().get(\"eigenvalue\"))"
   ]
  },
  {
   "cell_type": "markdown",
   "id": "fe571521",
   "metadata": {},
   "source": [
    "Congratulations! You have submitted your first Qiskit Runtime program and passed the exercise.\n",
    "\n",
    "But the fun is not over! We have reserved a dedicated quantum system for the quantum challenge. As bonus exercise (not graded), you can try your hands on submitting a VQE runtime job to a real quantum system! \n",
    "\n",
    "<div class=\"alert alert-block alert-success\">\n",
    "\n",
    "**Running VQE on a real quantum system (Optional)**\n",
    "    \n",
    "We have reserved a dedicated quantum system [`ibm_perth`](https://quantum-computing.ibm.com/services?services=systems&system=ibm_perth) for this challenge. Please follow the steps below to submit runtime job on the real quantum system.\n",
    "    \n",
    "1. Update backend selection to `ibm_perth` and pass it to `runtime_vqe` again\n",
    "    ```python\n",
    "    backend = provider.get_backend('ibm_perth')\n",
    "    runtime_vqe = VQEProgram(...\n",
    "                             backend=backend, \n",
    "                             ...)\n",
    "    ```\n",
    "2. Set `real_device` flag in `prepare_ex2f` to `True`.\n",
    "3. Run `prepare_ex2f` to submit a runtime job to `ibm_perth`.\n",
    "\n",
    "</div>\n",
    "\n",
    "<div class=\"alert alert-block alert-danger\">\n",
    "\n",
    "Note: Qiskit runtime speeds up VQE by up to 5 times. However, each runtime job can still take 30 ~ 60 minutes of quantum processor time. Therefore, **the queue time for completing a job can be hours or even days**, depending on how many participants are submitting jobs. \n",
    "\n",
    "To ensure a pleasant experience for all participants, please only submit a job to the real quantum system after trying with these settings using the simulator:\n",
    "1. Consider using `PartiyMapper` and set `two_qubit_reduction=True` to reduce number of qubits to 2 and make the VQE program converge to ground state energy faster (with lower number of iterations).\n",
    "1. Limit optimizer option `maxiter=100` or less. Use the simulator runs to find an optimal low number of iterations.\n",
    "1. Verify your runtime program is correct by passing `grade_ex2f` with simulator as backend.\n",
    "1. Limit your jobs to only 1 job per participant to allow more participants to try runtime on a real quantum system.\n",
    "    \n",
    "Don't worry if your job is getting too long to execute or it can't be executed before the challenge ends. This is an optional exercise. You can still pass all challenge exercises and get a digital badge without running a job on the real quantum system.\n",
    "</div>"
   ]
  },
  {
   "cell_type": "code",
   "execution_count": 27,
   "id": "a7b579e9",
   "metadata": {},
   "outputs": [
    {
     "name": "stdout",
     "output_type": "stream",
     "text": [
      "You are not using the ibm_perth backend, even though you set \"real_device=True\".\n",
      "Please change your backend setting.\n"
     ]
    }
   ],
   "source": [
    "# Please change backend to ibm_perth before running the following code\n",
    "runtime_job_real_device = prepare_ex2f(runtime_vqe, qubit_converter, es_problem, real_device=True)"
   ]
  },
  {
   "cell_type": "code",
   "execution_count": 28,
   "id": "b914ba92",
   "metadata": {},
   "outputs": [
    {
     "name": "stdout",
     "output_type": "stream",
     "text": [
      "Traceback \u001b[1;36m(most recent call last)\u001b[0m:\n",
      "\u001b[1;36m  File \u001b[1;32m\"/tmp/ipykernel_2203/2575768219.py\"\u001b[1;36m, line \u001b[1;32m1\u001b[1;36m, in \u001b[1;35m<module>\u001b[1;36m\u001b[0m\n",
      "\u001b[1;33m    print(runtime_job_real_device.result().get(\"eigenvalue\"))\u001b[0m\n",
      "\u001b[1;31mAttributeError\u001b[0m\u001b[1;31m:\u001b[0m 'NoneType' object has no attribute 'result'\n",
      "\n",
      "Use %tb to get the full traceback.\n"
     ]
    },
    {
     "data": {
      "text/html": [
       "\n",
       "<style>\n",
       ".button {\n",
       "  border: none;\n",
       "  color: white;\n",
       "  padding: 4px 8px;\n",
       "  text-align: center;\n",
       "  text-decoration: none;\n",
       "  display: inline-block;\n",
       "  font-size: 12px;\n",
       "  margin: 4px 2px;\n",
       "  transition-duration: 0.2s;\n",
       "  cursor: pointer;\n",
       "}\n",
       ".iqx-button {\n",
       "  background-color: #0f62fe; \n",
       "  color: white; \n",
       "}\n",
       ".iqx-button:hover {\n",
       "  background-color: #0043ce;\n",
       "  color: white;\n",
       "}\n",
       "</style>\n",
       "<a href=\"https://stackoverflow.com/search?q=AttributeError: 'NoneType' object has no attribute 'result'\" target='_blank'><button class='button iqx-button'>Search for solution online</button></a>\n"
      ],
      "text/plain": [
       "<IPython.core.display.HTML object>"
      ]
     },
     "metadata": {},
     "output_type": "display_data"
    }
   ],
   "source": [
    "print(runtime_job_real_device.result().get(\"eigenvalue\"))"
   ]
  },
  {
   "cell_type": "markdown",
   "id": "46d50b0c",
   "metadata": {},
   "source": [
    "## Additional information\n",
    "\n",
    "**Created by:** Junye Huang, Samanvay Sharma\n",
    "\n",
    "**Version:** 1.0.0"
   ]
  }
 ],
 "metadata": {
  "kernelspec": {
   "display_name": "Qiskit v0.31.0 (ipykernel)",
   "language": "python",
   "name": "python3"
  },
  "language_info": {
   "codemirror_mode": {
    "name": "ipython",
    "version": 3
   },
   "file_extension": ".py",
   "mimetype": "text/x-python",
   "name": "python",
   "nbconvert_exporter": "python",
   "pygments_lexer": "ipython3",
   "version": "3.8.10"
  },
  "widgets": {
   "application/vnd.jupyter.widget-state+json": {
    "state": {},
    "version_major": 2,
    "version_minor": 0
   }
  }
 },
 "nbformat": 4,
 "nbformat_minor": 5
}

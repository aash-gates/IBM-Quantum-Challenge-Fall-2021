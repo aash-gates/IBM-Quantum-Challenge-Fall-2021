{
 "cells": [
  {
   "cell_type": "markdown",
   "metadata": {},
   "source": [
    "## IBM Quantum Challenge Fall 2021\n",
    "\n",
    "# Challenge 3c Hint\n",
    "\n",
    "### 3つのラベル確率から3クラス分類予測への変換\n",
    "チャレンジ3cでは，3つのラベル確率から3クラス分類予測を作成する必要があります。ここでは，そのヒントを示しています。以下は，5データに対して実装すべき変換の例です。\n",
    "\n",

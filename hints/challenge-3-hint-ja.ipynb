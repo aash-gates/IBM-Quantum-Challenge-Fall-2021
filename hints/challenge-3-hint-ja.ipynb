{
 "cells": [
  {
   "cell_type": "markdown",
   "metadata": {},
   "source": [
    "## IBM Quantum Challenge Fall 2021\n",
    "\n",
    "# Challenge 3c Hint\n",
    "\n",
    "### 3つのラベル確率から3クラス分類予測への変換\n",

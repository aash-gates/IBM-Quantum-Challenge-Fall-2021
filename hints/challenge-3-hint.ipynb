{
 "cells": [
  {
   "cell_type": "markdown",
   "metadata": {},
   "source": [
    "## IBM Quantum Challenge Fall 2021\n",
    "\n",
    "# Challenge 3c Hint\n",
    "\n",
    "### How to convert three label probabilities into 3-class prediction\n",
    "In Challenge 3c, you need to create a final 3-class classification prediction from three label probabilities. Here is a hint for that part. The following is an example of what you should implement for 5 samples.\n",
    "\n",
    "**Input**: three label probalibities\n",
    "- label 0: [0.1, 0.5, 0.2, 0.9, 0.4]\n",
    "- label 2: [0.3, 0.1, 0.1, 0.3, 0.6]\n",
    "- label 3: [0.6, 0.2, 0.4, 0.1, 0.3]\n",
    "\n",
    "**Output**: 3-class classification prediction\n",
    "- prediction: [3, 0, 3, 0, 2]\n",
    "\n",
    "The conversion rule is to use the label with the highest label probability as the prediction for each data. For example, looking at the first data, the probalities of label 0, 2, 3 are 0.1, 0.3, 0.6 respectively, where the probability of label 3 is the highest, therefore the prediction is chosen to be label 3.\n",
    "\n",
    "Such conversion rules can be implemented by a great variety of approaches. The Challenge 3 notebook gives a hint of an approach using np.where. In this hint, an additional approach using np.argmax is presented. Here, as in the Challenge 3 notebook, it is demonstrated for just two labels, so you will need to extend it for three labels for submission.\n",

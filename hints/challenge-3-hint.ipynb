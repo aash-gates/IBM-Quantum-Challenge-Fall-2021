{
 "cells": [
  {
   "cell_type": "markdown",
   "metadata": {},
   "source": [
    "## IBM Quantum Challenge Fall 2021\n",
    "\n",
    "# Challenge 3c Hint\n",
    "\n",
    "### How to convert three label probabilities into 3-class prediction\n",
    "In Challenge 3c, you need to create a final 3-class classification prediction from three label probabilities. Here is a hint for that part. The following is an example of what you should implement for 5 samples.\n",
    "\n",
    "**Input**: three label probalibities\n",
